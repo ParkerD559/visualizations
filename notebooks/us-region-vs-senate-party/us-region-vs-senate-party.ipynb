{
 "cells": [
  {
   "cell_type": "markdown",
   "metadata": {},
   "source": [
    "# US Region vs Senate Party Timeline"
   ]
  },
  {
   "cell_type": "markdown",
   "metadata": {},
   "source": [
    "legislators-historical.json obtained from https://github.com/unitedstates/congress-legislators"
   ]
  },
  {
   "cell_type": "code",
   "execution_count": 85,
   "metadata": {},
   "outputs": [],
   "source": [
    "import json\n",
    "from pprint import pprint\n",
    "\n",
    "START_YEAR = 1914\n",
    "END_YEAR = 2020\n",
    "TERM_TYPE = 'sen'\n",
    "\n",
    "\n",
    "def extract_info(members, output):\n",
    "    for member in members:\n",
    "        for term in member['terms']:\n",
    "            if term['type'] == TERM_TYPE:\n",
    "                start_year = int(term['start'][:4])\n",
    "                end_year = int(term['end'][:4])\n",
    "                \n",
    "                for year in range(start_year, end_year):\n",
    "                    if START_YEAR <= year <= END_YEAR:\n",
    "                        state = term['state']\n",
    "                        \n",
    "                        if year not in output:\n",
    "                            output[year] = {}\n",
    "                        if state not in output[year]:\n",
    "                            output[year][state] = []\n",
    "                        output[year][state].append(term['party'])\n",
    "\n",
    "\n",
    "def fill_data(filename, output):\n",
    "    with open(filename) as data:\n",
    "        extract_info(json.load(data), output)"
   ]
  },
  {
   "cell_type": "code",
   "execution_count": 86,
   "metadata": {},
   "outputs": [],
   "source": [
    "senate_data = {}\n",
    "fill_data('legislators-historical.json', senate_data)\n",
    "fill_data('legislators-current.json', senate_data)"
   ]
  },
  {
   "cell_type": "code",
   "execution_count": 88,
   "metadata": {},
   "outputs": [
    {
     "ename": "IndentationError",
     "evalue": "unindent does not match any outer indentation level (<tokenize>, line 4)",
     "output_type": "error",
     "traceback": [
      "\u001b[0;36m  File \u001b[0;32m\"<tokenize>\"\u001b[0;36m, line \u001b[0;32m4\u001b[0m\n\u001b[0;31m    Region 2: Midwest (Prior to June 1984, the Midwest Region was designated as the North Central Region.)[6]\u001b[0m\n\u001b[0m    ^\u001b[0m\n\u001b[0;31mIndentationError\u001b[0m\u001b[0;31m:\u001b[0m unindent does not match any outer indentation level\n"
     ]
    }
   ],
   "source": [
    "Region 1: Northeast\n",
    "        Division 1: New England (Connecticut, Maine, Massachusetts, New Hampshire, Rhode Island, and Vermont)\n",
    "        Division 2: Mid-Atlantic (New Jersey, New York, and Pennsylvania)\n",
    "    Region 2: Midwest (Prior to June 1984, the Midwest Region was designated as the North Central Region.)[6]\n",
    "        Division 3: East North Central (Illinois, Indiana, Michigan, Ohio, and Wisconsin)\n",
    "        Division 4: West North Central (Iowa, Kansas, Minnesota, Missouri, Nebraska, North Dakota, and South Dakota)\n",
    "    Region 3: South\n",
    "        Division 5: South Atlantic (Delaware, Florida, Georgia, Maryland, North Carolina, South Carolina, Virginia, District of Columbia, and West Virginia)\n",
    "        Division 6: East South Central (Alabama, Kentucky, Mississippi, and Tennessee)\n",
    "        Division 7: West South Central (Arkansas, Louisiana, Oklahoma, and Texas)\n",
    "    Region 4: West\n",
    "        Division 8: Mountain (Arizona, Colorado, Idaho, Montana, Nevada, New Mexico, Utah, and Wyoming)\n",
    "        Division 9: Pacific (Alaska, California, Hawaii, Oregon, and Washington)"
   ]
  },
  {
   "cell_type": "code",
   "execution_count": null,
   "metadata": {},
   "outputs": [],
   "source": []
  }
 ],
 "metadata": {
  "kernelspec": {
   "display_name": "Python 3",
   "language": "python",
   "name": "python3"
  },
  "language_info": {
   "codemirror_mode": {
    "name": "ipython",
    "version": 3
   },
   "file_extension": ".py",
   "mimetype": "text/x-python",
   "name": "python",
   "nbconvert_exporter": "python",
   "pygments_lexer": "ipython3",
   "version": "3.6.8"
  }
 },
 "nbformat": 4,
 "nbformat_minor": 2
}
